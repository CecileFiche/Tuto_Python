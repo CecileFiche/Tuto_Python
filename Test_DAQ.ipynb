{
 "cells": [
  {
   "cell_type": "markdown",
   "metadata": {},
   "source": [
    "Load the functions from the libraries"
   ]
  },
  {
   "cell_type": "code",
   "execution_count": 14,
   "metadata": {},
   "outputs": [],
   "source": [
    "from __future__ import print_function\n",
    "from time import sleep\n",
    "from os import system\n",
    "from sys import stdout\n",
    "\n",
    "from uldaq import (get_daq_device_inventory, DaqDevice, InterfaceType,\n",
    "                   DigitalDirection, DigitalPortIoType)"
   ]
  },
  {
   "cell_type": "markdown",
   "metadata": {},
   "source": [
    "Define/reset the parameters"
   ]
  },
  {
   "cell_type": "code",
   "execution_count": 15,
   "metadata": {},
   "outputs": [],
   "source": [
    "daq_device = None\n",
    "\n",
    "interface_type = InterfaceType.USB\n",
    "descriptor_index = 0\n",
    "port_types_index = 0"
   ]
  },
  {
   "cell_type": "markdown",
   "metadata": {},
   "source": [
    "Check whether there is a connected DAQ device and return the descriptor"
   ]
  },
  {
   "cell_type": "code",
   "execution_count": 16,
   "metadata": {},
   "outputs": [
    {
     "name": "stdout",
     "output_type": "stream",
     "text": [
      "Found 1 DAQ device(s):\n",
      "  USB-3104 (01CF3519)\n"
     ]
    }
   ],
   "source": [
    "devices = get_daq_device_inventory(interface_type)\n",
    "number_of_devices = len(devices)\n",
    "if number_of_devices == 0:\n",
    "    raise Exception('Error: No DAQ devices found')\n",
    "    \n",
    "print('Found', number_of_devices, 'DAQ device(s):')\n",
    "for i in range(number_of_devices):\n",
    "    print('  ', devices[i].product_name, ' (', devices[i].unique_id, ')', sep='')"
   ]
  },
  {
   "cell_type": "markdown",
   "metadata": {},
   "source": [
    "Create the DAQ device object associated with the specified descriptor index.\n",
    "Create the DioDevice object and verify that it is valid."
   ]
  },
  {
   "cell_type": "code",
   "execution_count": 17,
   "metadata": {},
   "outputs": [],
   "source": [
    "daq_device = DaqDevice(devices[descriptor_index])\n",
    "\n",
    "dio_device = daq_device.get_dio_device()\n",
    "if dio_device is None:\n",
    "    raise Exception('Error: The DAQ device does not support digital input')"
   ]
  },
  {
   "cell_type": "markdown",
   "metadata": {},
   "source": [
    "Establish a connection to the DAQ device"
   ]
  },
  {
   "cell_type": "code",
   "execution_count": 18,
   "metadata": {},
   "outputs": [
    {
     "name": "stdout",
     "output_type": "stream",
     "text": [
      "\n",
      "Connecting to USB-3104 - please wait...\n"
     ]
    }
   ],
   "source": [
    "descriptor = daq_device.get_descriptor()\n",
    "print('\\nConnecting to', descriptor.dev_string, '- please wait...')\n",
    "daq_device.connect()"
   ]
  },
  {
   "cell_type": "markdown",
   "metadata": {},
   "source": [
    "Get the port types for the device(AUXPORT, FIRSTPORTA, ...)"
   ]
  },
  {
   "cell_type": "code",
   "execution_count": 19,
   "metadata": {},
   "outputs": [
    {
     "name": "stdout",
     "output_type": "stream",
     "text": [
      "\n",
      "The port number is : 0\n"
     ]
    }
   ],
   "source": [
    "dio_info = dio_device.get_info()\n",
    "port_types = dio_info.get_port_types()\n",
    "\n",
    "if port_types_index >= len(port_types):\n",
    "    port_types_index = len(port_types) - 1\n",
    "\n",
    "port_to_read = port_types[port_types_index]\n",
    "\n",
    "print('\\nThe port number is :',port_types_index)"
   ]
  },
  {
   "cell_type": "markdown",
   "metadata": {},
   "source": [
    "Configure the port for input"
   ]
  },
  {
   "cell_type": "code",
   "execution_count": 20,
   "metadata": {},
   "outputs": [
    {
     "name": "stdout",
     "output_type": "stream",
     "text": [
      "\n",
      "USB-3104 ready\n",
      "    Function demonstrated: dio_device.d_in()\n",
      "    Port:  AUXPORT\n"
     ]
    }
   ],
   "source": [
    "port_info = dio_info.get_port_info(port_to_read)\n",
    "\n",
    "if (port_info.port_io_type == DigitalPortIoType.IO or port_info.port_io_type == DigitalPortIoType.BITIO):\n",
    "    dio_device.d_config_port(port_to_read, DigitalDirection.INPUT)\n",
    "\n",
    "print('\\n', descriptor.dev_string, ' ready', sep='')\n",
    "print('    Function demonstrated: dio_device.d_in()')\n",
    "print('    Port: ', port_to_read.name)"
   ]
  },
  {
   "cell_type": "markdown",
   "metadata": {},
   "source": [
    "Read the first port - note the output is not a voltage but a 8bit number"
   ]
  },
  {
   "cell_type": "code",
   "execution_count": 21,
   "metadata": {},
   "outputs": [
    {
     "name": "stdout",
     "output_type": "stream",
     "text": [
      "Port( AUXPORT ) Data:  255\n"
     ]
    }
   ],
   "source": [
    "data = dio_device.d_in(port_to_read)\n",
    "print('Port(', port_to_read.name, ') Data: ', data)\n",
    "\n",
    "sleep(0.1)"
   ]
  },
  {
   "cell_type": "markdown",
   "metadata": {},
   "source": [
    "Release the device"
   ]
  },
  {
   "cell_type": "code",
   "execution_count": 22,
   "metadata": {},
   "outputs": [],
   "source": [
    "if daq_device:\n",
    "    if daq_device.is_connected():\n",
    "        daq_device.disconnect()\n",
    "        \n",
    "    daq_device.release()"
   ]
  },
  {
   "cell_type": "code",
   "execution_count": null,
   "metadata": {},
   "outputs": [],
   "source": []
  }
 ],
 "metadata": {
  "kernelspec": {
   "display_name": "Python 3",
   "language": "python",
   "name": "python3"
  },
  "language_info": {
   "codemirror_mode": {
    "name": "ipython",
    "version": 3
   },
   "file_extension": ".py",
   "mimetype": "text/x-python",
   "name": "python",
   "nbconvert_exporter": "python",
   "pygments_lexer": "ipython3",
   "version": "3.6.9"
  }
 },
 "nbformat": 4,
 "nbformat_minor": 4
}
